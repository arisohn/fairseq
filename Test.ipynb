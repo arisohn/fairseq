{
 "cells": [
  {
   "cell_type": "code",
   "execution_count": 32,
   "metadata": {},
   "outputs": [
    {
     "name": "stdout",
     "output_type": "stream",
     "text": [
      "torch.Size([1, 20, 3])\n"
     ]
    }
   ],
   "source": [
    "import numpy\n",
    "import torch\n",
    "\n",
    "X = numpy.random.uniform(-10, 10, 70).reshape(1, 7, -1)\n",
    "# Y = np.random.randint(0, 9, 10).reshape(1, 1, -1)\n",
    "\n",
    "class Simple1DCNN(torch.nn.Module):\n",
    "    def __init__(self):\n",
    "        super(Simple1DCNN, self).__init__()\n",
    "        self.layer1 = torch.nn.Conv1d(in_channels=7, out_channels=20, kernel_size=5, stride=2)\n",
    "        self.act1 = torch.nn.ReLU()\n",
    "        self.layer2 = torch.nn.Conv1d(in_channels=20, out_channels=10, kernel_size=1)\n",
    "    def forward(self, x):\n",
    "      x = self.layer1(x)\n",
    "#       x = self.act1(x)\n",
    "#       x = self.layer2(x)\n",
    "\n",
    "#       log_probs = torch.nn.functional.log_softmax(x, dim=1)\n",
    "      \n",
    "      return x \n",
    "\n",
    "model = Simple1DCNN().double()\n",
    "print(model(torch.tensor(X)).shape)"
   ]
  },
  {
   "cell_type": "code",
   "execution_count": 33,
   "metadata": {},
   "outputs": [
    {
     "name": "stdout",
     "output_type": "stream",
     "text": [
      "(1, 7, 10)\n"
     ]
    }
   ],
   "source": [
    "\n",
    "print(X.shape)"
   ]
  },
  {
   "cell_type": "code",
   "execution_count": 6,
   "metadata": {},
   "outputs": [],
   "source": [
    "def extend_conv_spec(convolutions):\n",
    "    \"\"\"\n",
    "    Extends convolutional spec that is a list of tuples of 2 or 3 parameters\n",
    "    (kernel size, dim size and optionally how many layers behind to look for residual)\n",
    "    to default the residual propagation param if it is not specified\n",
    "    \"\"\"\n",
    "    extended = []\n",
    "    for spec in convolutions:\n",
    "        if len(spec) == 3:\n",
    "            extended.append(spec)\n",
    "        elif len(spec) == 2:\n",
    "            extended.append(spec + (1,))\n",
    "        else:\n",
    "            raise Exception('invalid number of parameters in convolution spec ' + str(spec) + '. expected 2 or 3')\n",
    "    return tuple(extended)"
   ]
  },
  {
   "cell_type": "code",
   "execution_count": 10,
   "metadata": {},
   "outputs": [],
   "source": [
    "convolutions=((512, 3),) * 20"
   ]
  },
  {
   "cell_type": "code",
   "execution_count": 12,
   "metadata": {},
   "outputs": [],
   "source": [
    "temp = extend_conv_spec(convolutions)"
   ]
  },
  {
   "cell_type": "code",
   "execution_count": 13,
   "metadata": {},
   "outputs": [
    {
     "data": {
      "text/plain": [
       "512"
      ]
     },
     "execution_count": 13,
     "metadata": {},
     "output_type": "execute_result"
    }
   ],
   "source": [
    "temp[0][0]"
   ]
  },
  {
   "cell_type": "code",
   "execution_count": 14,
   "metadata": {},
   "outputs": [
    {
     "data": {
      "text/plain": [
       "((512, 3, 1),\n",
       " (512, 3, 1),\n",
       " (512, 3, 1),\n",
       " (512, 3, 1),\n",
       " (512, 3, 1),\n",
       " (512, 3, 1),\n",
       " (512, 3, 1),\n",
       " (512, 3, 1),\n",
       " (512, 3, 1),\n",
       " (512, 3, 1),\n",
       " (512, 3, 1),\n",
       " (512, 3, 1),\n",
       " (512, 3, 1),\n",
       " (512, 3, 1),\n",
       " (512, 3, 1),\n",
       " (512, 3, 1),\n",
       " (512, 3, 1),\n",
       " (512, 3, 1),\n",
       " (512, 3, 1),\n",
       " (512, 3, 1))"
      ]
     },
     "execution_count": 14,
     "metadata": {},
     "output_type": "execute_result"
    }
   ],
   "source": [
    "temp"
   ]
  },
  {
   "cell_type": "code",
   "execution_count": 23,
   "metadata": {},
   "outputs": [],
   "source": [
    "from torch._six import container_abcs\n",
    "from itertools import repeat\n",
    "\n",
    "def _ntuple(n):\n",
    "    def parse(x):\n",
    "        if isinstance(x, container_abcs.Iterable):\n",
    "            return x\n",
    "        return tuple(repeat(x, n))\n",
    "    return parse"
   ]
  },
  {
   "cell_type": "code",
   "execution_count": 26,
   "metadata": {},
   "outputs": [],
   "source": [
    "_d = _ntuple(1)"
   ]
  },
  {
   "cell_type": "code",
   "execution_count": 27,
   "metadata": {},
   "outputs": [
    {
     "data": {
      "text/plain": [
       "(10,)"
      ]
     },
     "execution_count": 27,
     "metadata": {},
     "output_type": "execute_result"
    }
   ],
   "source": [
    "_d(10)"
   ]
  },
  {
   "cell_type": "code",
   "execution_count": 37,
   "metadata": {},
   "outputs": [
    {
     "name": "stdout",
     "output_type": "stream",
     "text": [
      "torch.Size([20, 33, 48])\n"
     ]
    }
   ],
   "source": [
    "import torch.nn.functional as F\n",
    "\n",
    "filters = torch.randn(33, 16, 3)\n",
    "inputs = torch.randn(20, 16, 50)\n",
    "output = F.conv1d(inputs, filters)\n",
    "\n",
    "print(output.shape)"
   ]
  },
  {
   "cell_type": "code",
   "execution_count": null,
   "metadata": {},
   "outputs": [],
   "source": []
  }
 ],
 "metadata": {
  "kernelspec": {
   "display_name": "Python 3",
   "language": "python",
   "name": "python3"
  },
  "language_info": {
   "codemirror_mode": {
    "name": "ipython",
    "version": 3
   },
   "file_extension": ".py",
   "mimetype": "text/x-python",
   "name": "python",
   "nbconvert_exporter": "python",
   "pygments_lexer": "ipython3",
   "version": "3.6.10"
  }
 },
 "nbformat": 4,
 "nbformat_minor": 4
}
